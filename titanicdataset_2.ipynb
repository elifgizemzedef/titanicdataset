{
 "cells": [
  {
   "cell_type": "code",
   "execution_count": 257,
   "id": "8481d337",
   "metadata": {},
   "outputs": [],
   "source": [
    "import numpy as np\n",
    "import pandas as pd\n",
    "import matplotlib.pyplot as plt\n",
    "import seaborn as sns"
   ]
  },
  {
   "cell_type": "code",
   "execution_count": 258,
   "id": "43fcf55b",
   "metadata": {},
   "outputs": [],
   "source": [
    "%matplotlib inline"
   ]
  },
  {
   "cell_type": "code",
   "execution_count": 259,
   "id": "56ba20bb",
   "metadata": {},
   "outputs": [],
   "source": [
    "df_titanic = pd.read_csv('train.csv') "
   ]
  },
  {
   "cell_type": "markdown",
   "id": "f93ea883",
   "metadata": {},
   "source": [
    " ## ANSWER 1 \n",
    "  it starts to count from last passenger and takes last 6 passengers. "
   ]
  },
  {
   "cell_type": "code",
   "execution_count": 260,
   "id": "bf403b72",
   "metadata": {
    "scrolled": false
   },
   "outputs": [
    {
     "data": {
      "text/html": [
       "<div>\n",
       "<style scoped>\n",
       "    .dataframe tbody tr th:only-of-type {\n",
       "        vertical-align: middle;\n",
       "    }\n",
       "\n",
       "    .dataframe tbody tr th {\n",
       "        vertical-align: top;\n",
       "    }\n",
       "\n",
       "    .dataframe thead th {\n",
       "        text-align: right;\n",
       "    }\n",
       "</style>\n",
       "<table border=\"1\" class=\"dataframe\">\n",
       "  <thead>\n",
       "    <tr style=\"text-align: right;\">\n",
       "      <th></th>\n",
       "      <th>PassengerId</th>\n",
       "      <th>Survived</th>\n",
       "      <th>Pclass</th>\n",
       "      <th>Name</th>\n",
       "      <th>Sex</th>\n",
       "      <th>Age</th>\n",
       "      <th>SibSp</th>\n",
       "      <th>Parch</th>\n",
       "      <th>Ticket</th>\n",
       "      <th>Fare</th>\n",
       "      <th>Cabin</th>\n",
       "      <th>Embarked</th>\n",
       "    </tr>\n",
       "  </thead>\n",
       "  <tbody>\n",
       "    <tr>\n",
       "      <th>885</th>\n",
       "      <td>886</td>\n",
       "      <td>0</td>\n",
       "      <td>3</td>\n",
       "      <td>Rice, Mrs. William (Margaret Norton)</td>\n",
       "      <td>female</td>\n",
       "      <td>39.0</td>\n",
       "      <td>0</td>\n",
       "      <td>5</td>\n",
       "      <td>382652</td>\n",
       "      <td>29.125</td>\n",
       "      <td>NaN</td>\n",
       "      <td>Q</td>\n",
       "    </tr>\n",
       "    <tr>\n",
       "      <th>886</th>\n",
       "      <td>887</td>\n",
       "      <td>0</td>\n",
       "      <td>2</td>\n",
       "      <td>Montvila, Rev. Juozas</td>\n",
       "      <td>male</td>\n",
       "      <td>27.0</td>\n",
       "      <td>0</td>\n",
       "      <td>0</td>\n",
       "      <td>211536</td>\n",
       "      <td>13.000</td>\n",
       "      <td>NaN</td>\n",
       "      <td>S</td>\n",
       "    </tr>\n",
       "    <tr>\n",
       "      <th>887</th>\n",
       "      <td>888</td>\n",
       "      <td>1</td>\n",
       "      <td>1</td>\n",
       "      <td>Graham, Miss. Margaret Edith</td>\n",
       "      <td>female</td>\n",
       "      <td>19.0</td>\n",
       "      <td>0</td>\n",
       "      <td>0</td>\n",
       "      <td>112053</td>\n",
       "      <td>30.000</td>\n",
       "      <td>B42</td>\n",
       "      <td>S</td>\n",
       "    </tr>\n",
       "    <tr>\n",
       "      <th>888</th>\n",
       "      <td>889</td>\n",
       "      <td>0</td>\n",
       "      <td>3</td>\n",
       "      <td>Johnston, Miss. Catherine Helen \"Carrie\"</td>\n",
       "      <td>female</td>\n",
       "      <td>NaN</td>\n",
       "      <td>1</td>\n",
       "      <td>2</td>\n",
       "      <td>W./C. 6607</td>\n",
       "      <td>23.450</td>\n",
       "      <td>NaN</td>\n",
       "      <td>S</td>\n",
       "    </tr>\n",
       "    <tr>\n",
       "      <th>889</th>\n",
       "      <td>890</td>\n",
       "      <td>1</td>\n",
       "      <td>1</td>\n",
       "      <td>Behr, Mr. Karl Howell</td>\n",
       "      <td>male</td>\n",
       "      <td>26.0</td>\n",
       "      <td>0</td>\n",
       "      <td>0</td>\n",
       "      <td>111369</td>\n",
       "      <td>30.000</td>\n",
       "      <td>C148</td>\n",
       "      <td>C</td>\n",
       "    </tr>\n",
       "    <tr>\n",
       "      <th>890</th>\n",
       "      <td>891</td>\n",
       "      <td>0</td>\n",
       "      <td>3</td>\n",
       "      <td>Dooley, Mr. Patrick</td>\n",
       "      <td>male</td>\n",
       "      <td>32.0</td>\n",
       "      <td>0</td>\n",
       "      <td>0</td>\n",
       "      <td>370376</td>\n",
       "      <td>7.750</td>\n",
       "      <td>NaN</td>\n",
       "      <td>Q</td>\n",
       "    </tr>\n",
       "  </tbody>\n",
       "</table>\n",
       "</div>"
      ],
      "text/plain": [
       "     PassengerId  Survived  Pclass                                      Name  \\\n",
       "885          886         0       3      Rice, Mrs. William (Margaret Norton)   \n",
       "886          887         0       2                     Montvila, Rev. Juozas   \n",
       "887          888         1       1              Graham, Miss. Margaret Edith   \n",
       "888          889         0       3  Johnston, Miss. Catherine Helen \"Carrie\"   \n",
       "889          890         1       1                     Behr, Mr. Karl Howell   \n",
       "890          891         0       3                       Dooley, Mr. Patrick   \n",
       "\n",
       "        Sex   Age  SibSp  Parch      Ticket    Fare Cabin Embarked  \n",
       "885  female  39.0      0      5      382652  29.125   NaN        Q  \n",
       "886    male  27.0      0      0      211536  13.000   NaN        S  \n",
       "887  female  19.0      0      0      112053  30.000   B42        S  \n",
       "888  female   NaN      1      2  W./C. 6607  23.450   NaN        S  \n",
       "889    male  26.0      0      0      111369  30.000  C148        C  \n",
       "890    male  32.0      0      0      370376   7.750   NaN        Q  "
      ]
     },
     "execution_count": 260,
     "metadata": {},
     "output_type": "execute_result"
    }
   ],
   "source": [
    "df_titanic[-6:]"
   ]
  },
  {
   "cell_type": "markdown",
   "id": "893cce57",
   "metadata": {},
   "source": [
    "## ANSWER 2"
   ]
  },
  {
   "cell_type": "code",
   "execution_count": 283,
   "id": "3e0746f7",
   "metadata": {},
   "outputs": [
    {
     "data": {
      "text/plain": [
       "Index(['PassengerId', 'Survived', 'Pclass', 'Name', 'Sex', 'Age', 'SibSp',\n",
       "       'Parch', 'Ticket', 'Fare', 'Cabin', 'Embarked'],\n",
       "      dtype='object')"
      ]
     },
     "execution_count": 283,
     "metadata": {},
     "output_type": "execute_result"
    }
   ],
   "source": [
    "df_titanic.columns\n",
    "## output is a list of titles"
   ]
  },
  {
   "cell_type": "markdown",
   "id": "d6cebeb2",
   "metadata": {},
   "source": [
    "## ANSWER 3\n",
    "this table stores 891 people"
   ]
  },
  {
   "cell_type": "code",
   "execution_count": 262,
   "id": "a009d30a",
   "metadata": {},
   "outputs": [
    {
     "name": "stdout",
     "output_type": "stream",
     "text": [
      "(891, 12)\n"
     ]
    }
   ],
   "source": [
    "print(df_titanic.shape)"
   ]
  },
  {
   "cell_type": "markdown",
   "id": "c5190668",
   "metadata": {},
   "source": [
    "## ANSWER 4"
   ]
  },
  {
   "cell_type": "code",
   "execution_count": 263,
   "id": "85dc116a",
   "metadata": {},
   "outputs": [
    {
     "data": {
      "text/plain": [
       "PassengerId      0\n",
       "Survived         0\n",
       "Pclass           0\n",
       "Name             0\n",
       "Sex              0\n",
       "Age            177\n",
       "SibSp            0\n",
       "Parch            0\n",
       "Ticket           0\n",
       "Fare             0\n",
       "Cabin          687\n",
       "Embarked         2\n",
       "dtype: int64"
      ]
     },
     "execution_count": 263,
     "metadata": {},
     "output_type": "execute_result"
    }
   ],
   "source": [
    "df_titanic.isnull().sum()\n",
    "## age column has 177 NaN values \n",
    "## cabin column has 687 NaN values \n",
    "## embarked column has 2 NaN values \n",
    "## others doesn't have any NaN values "
   ]
  },
  {
   "cell_type": "markdown",
   "id": "4f0432d1",
   "metadata": {},
   "source": [
    "## ANSWER 5"
   ]
  },
  {
   "cell_type": "code",
   "execution_count": 284,
   "id": "cf40dbc7",
   "metadata": {
    "scrolled": true
   },
   "outputs": [
    {
     "data": {
      "image/png": "[encoded data removed]",
      "text/plain": [
       "<Figure size 360x360 with 1 Axes>"
      ]
     },
     "metadata": {},
     "output_type": "display_data"
    }
   ],
   "source": [
    "plot = df_titanic[\"Pclass\"].value_counts().plot.pie(figsize=(5, 5))\n",
    "## 3th class has the most passengers "
   ]
  },
  {
   "cell_type": "markdown",
   "id": "d1c85fd9",
   "metadata": {},
   "source": [
    "## ANSWER 6"
   ]
  },
  {
   "cell_type": "code",
   "execution_count": 285,
   "id": "18c258e3",
   "metadata": {},
   "outputs": [
    {
     "data": {
      "image/png": "[encoded data removed]",
      "text/plain": [
       "<Figure size 432x288 with 1 Axes>"
      ]
     },
     "metadata": {
      "needs_background": "light"
     },
     "output_type": "display_data"
    }
   ],
   "source": [
    "plot=df_titanic[\"Survived\"].value_counts().plot.bar(rot=0)\n",
    "## it shows that most of the people are died \n",
    "## 0= dead people 1 = survived "
   ]
  },
  {
   "cell_type": "markdown",
   "id": "400a5956",
   "metadata": {},
   "source": [
    "##  ANSWER 7 "
   ]
  },
  {
   "cell_type": "code",
   "execution_count": 300,
   "id": "c9bf2b71",
   "metadata": {},
   "outputs": [
    {
     "data": {
      "text/plain": [
       "<AxesSubplot:ylabel='Survived'>"
      ]
     },
     "execution_count": 300,
     "metadata": {},
     "output_type": "execute_result"
    },
    {
     "data": {
      "image/png": "[encoded data removed]",
      "text/plain": [
       "<Figure size 1440x360 with 3 Axes>"
      ]
     },
     "metadata": {},
     "output_type": "display_data"
    }
   ],
   "source": [
    "plt.figure(figsize=(20,5))\n",
    "plt.subplot(1,3,1)\n",
    "df_titanic[\"Survived\"].loc[df_titanic[\"Pclass\"]==1].value_counts().plot.pie(colors=[\"#77D220\",\"red\"])\n",
    "## people mostly survived\n",
    "\n",
    "plt.subplot(1,3,2)\n",
    "df_titanic[\"Survived\"].loc[df_titanic[\"Pclass\"]==2].value_counts().plot.pie(colors=[\"red\",\"#77D220\"])\n",
    "## people mostly died\n",
    "\n",
    "plt.subplot(1,3,3)\n",
    "df_titanic[\"Survived\"].loc[df_titanic[\"Pclass\"]==3].value_counts().plot.pie(colors=[\"red\",\"#77D220\"])\n",
    "## mostly people died "
   ]
  },
  {
   "cell_type": "markdown",
   "id": "7222e634",
   "metadata": {},
   "source": [
    "##  8 "
   ]
  },
  {
   "cell_type": "code",
   "execution_count": 301,
   "id": "9e0fc40d",
   "metadata": {},
   "outputs": [
    {
     "data": {
      "text/plain": [
       "<AxesSubplot:>"
      ]
     },
     "execution_count": 301,
     "metadata": {},
     "output_type": "execute_result"
    },
    {
     "data": {
      "image/png": "[encoded data removed]",
      "text/plain": [
       "<Figure size 432x288 with 1 Axes>"
      ]
     },
     "metadata": {
      "needs_background": "light"
     },
     "output_type": "display_data"
    }
   ],
   "source": [
    "df_titanic[\"Pclass\"].loc[df_titanic[\"Pclass\"].all() & df_titanic[\"Survived\"]==1].value_counts(normalize=True).plot.bar(color=\"purple\",rot=0)\n",
    "## it shows that 1th class people were more lucky \n",
    "## first class has the highest survival rate maybe because the place they stay on titanic was more favorable for them\n"
   ]
  },
  {
   "cell_type": "markdown",
   "id": "440eaaba",
   "metadata": {},
   "source": [
    "##  ANSWER 9 \n"
   ]
  },
  {
   "cell_type": "code",
   "execution_count": 323,
   "id": "87ccf4e1",
   "metadata": {},
   "outputs": [
    {
     "data": {
      "text/html": [
       "<div>\n",
       "<style scoped>\n",
       "    .dataframe tbody tr th:only-of-type {\n",
       "        vertical-align: middle;\n",
       "    }\n",
       "\n",
       "    .dataframe tbody tr th {\n",
       "        vertical-align: top;\n",
       "    }\n",
       "\n",
       "    .dataframe thead th {\n",
       "        text-align: right;\n",
       "    }\n",
       "</style>\n",
       "<table border=\"1\" class=\"dataframe\">\n",
       "  <thead>\n",
       "    <tr style=\"text-align: right;\">\n",
       "      <th>Survived</th>\n",
       "      <th>0</th>\n",
       "      <th>1</th>\n",
       "      <th>All</th>\n",
       "    </tr>\n",
       "    <tr>\n",
       "      <th>Sex</th>\n",
       "      <th></th>\n",
       "      <th></th>\n",
       "      <th></th>\n",
       "    </tr>\n",
       "  </thead>\n",
       "  <tbody>\n",
       "    <tr>\n",
       "      <th>female</th>\n",
       "      <td>81</td>\n",
       "      <td>233</td>\n",
       "      <td>314</td>\n",
       "    </tr>\n",
       "    <tr>\n",
       "      <th>male</th>\n",
       "      <td>468</td>\n",
       "      <td>109</td>\n",
       "      <td>577</td>\n",
       "    </tr>\n",
       "    <tr>\n",
       "      <th>All</th>\n",
       "      <td>549</td>\n",
       "      <td>342</td>\n",
       "      <td>891</td>\n",
       "    </tr>\n",
       "  </tbody>\n",
       "</table>\n",
       "</div>"
      ],
      "text/plain": [
       "Survived    0    1  All\n",
       "Sex                    \n",
       "female     81  233  314\n",
       "male      468  109  577\n",
       "All       549  342  891"
      ]
     },
     "execution_count": 323,
     "metadata": {},
     "output_type": "execute_result"
    }
   ],
   "source": [
    "pd.crosstab(df_titanic.Sex,df_titanic.Survived,margins=True)\n",
    "## this is the cross table 0:not survived 1: survived \n",
    "## most number of survivors are females\n",
    "## as ı can see mostly men couldnt survived. I guess people tried to save women first "
   ]
  },
  {
   "cell_type": "markdown",
   "id": "d9f04942",
   "metadata": {},
   "source": [
    "##  ANSWER 10\n"
   ]
  },
  {
   "cell_type": "code",
   "execution_count": 303,
   "id": "245c7639",
   "metadata": {},
   "outputs": [
    {
     "data": {
      "text/plain": [
       "<AxesSubplot:xlabel='Embarked,Survived'>"
      ]
     },
     "execution_count": 303,
     "metadata": {},
     "output_type": "execute_result"
    },
    {
     "data": {
      "image/png": "[encoded data removed]",
      "text/plain": [
       "<Figure size 432x288 with 1 Axes>"
      ]
     },
     "metadata": {
      "needs_background": "light"
     },
     "output_type": "display_data"
    }
   ],
   "source": [
    "df_titanic[\"Embarked\"].groupby([df_titanic[\"Embarked\"],df_titanic[\"Survived\"]]).count().plot.bar()\n",
    "## people who is embarked=s are mostly couldnt survived and most of the people are embarked = 0 "
   ]
  },
  {
   "cell_type": "markdown",
   "id": "f0796b8e",
   "metadata": {},
   "source": [
    "# # ANSWER 11"
   ]
  },
  {
   "cell_type": "code",
   "execution_count": 273,
   "id": "5ec5e976",
   "metadata": {},
   "outputs": [
    {
     "data": {
      "text/html": [
       "<div>\n",
       "<style scoped>\n",
       "    .dataframe tbody tr th:only-of-type {\n",
       "        vertical-align: middle;\n",
       "    }\n",
       "\n",
       "    .dataframe tbody tr th {\n",
       "        vertical-align: top;\n",
       "    }\n",
       "\n",
       "    .dataframe thead th {\n",
       "        text-align: right;\n",
       "    }\n",
       "</style>\n",
       "<table border=\"1\" class=\"dataframe\">\n",
       "  <thead>\n",
       "    <tr style=\"text-align: right;\">\n",
       "      <th></th>\n",
       "      <th>col_0</th>\n",
       "      <th>Adult</th>\n",
       "      <th>Child</th>\n",
       "      <th>Old</th>\n",
       "      <th>All</th>\n",
       "    </tr>\n",
       "    <tr>\n",
       "      <th>Sex</th>\n",
       "      <th>Survived</th>\n",
       "      <th></th>\n",
       "      <th></th>\n",
       "      <th></th>\n",
       "      <th></th>\n",
       "    </tr>\n",
       "  </thead>\n",
       "  <tbody>\n",
       "    <tr>\n",
       "      <th rowspan=\"2\" valign=\"top\">female</th>\n",
       "      <th>0</th>\n",
       "      <td>42</td>\n",
       "      <td>22</td>\n",
       "      <td>17</td>\n",
       "      <td>81</td>\n",
       "    </tr>\n",
       "    <tr>\n",
       "      <th>1</th>\n",
       "      <td>147</td>\n",
       "      <td>46</td>\n",
       "      <td>40</td>\n",
       "      <td>233</td>\n",
       "    </tr>\n",
       "    <tr>\n",
       "      <th rowspan=\"2\" valign=\"top\">male</th>\n",
       "      <th>0</th>\n",
       "      <td>294</td>\n",
       "      <td>47</td>\n",
       "      <td>127</td>\n",
       "      <td>468</td>\n",
       "    </tr>\n",
       "    <tr>\n",
       "      <th>1</th>\n",
       "      <td>66</td>\n",
       "      <td>24</td>\n",
       "      <td>19</td>\n",
       "      <td>109</td>\n",
       "    </tr>\n",
       "    <tr>\n",
       "      <th>All</th>\n",
       "      <th></th>\n",
       "      <td>549</td>\n",
       "      <td>139</td>\n",
       "      <td>203</td>\n",
       "      <td>891</td>\n",
       "    </tr>\n",
       "  </tbody>\n",
       "</table>\n",
       "</div>"
      ],
      "text/plain": [
       "col_0            Adult  Child  Old  All\n",
       "Sex    Survived                        \n",
       "female 0            42     22   17   81\n",
       "       1           147     46   40  233\n",
       "male   0           294     47  127  468\n",
       "       1            66     24   19  109\n",
       "All                549    139  203  891"
      ]
     },
     "execution_count": 273,
     "metadata": {},
     "output_type": "execute_result"
    }
   ],
   "source": [
    "Age_group=[]\n",
    "for x in df_titanic[\"Age\"]:\n",
    "    if (19 > x):\n",
    "        Age_group.append(\"Child\")\n",
    "    elif x < 60:\n",
    "        Age_group.append(\"Adult\")\n",
    "    else :\n",
    "        Age_group.append(\"Old\")\n",
    "        \n",
    "pd.crosstab([df_titanic.Sex,df_titanic.Survived],[Age_group],margins=True)\n",
    "## as ı can see females are mostly survived and males are mostly died\n",
    "## ı think the reason of it is people give females more priority to save than males"
   ]
  },
  {
   "cell_type": "markdown",
   "id": "dbf460f4",
   "metadata": {},
   "source": [
    "## ANSWER 12"
   ]
  },
  {
   "cell_type": "code",
   "execution_count": 332,
   "id": "d099d7c3",
   "metadata": {},
   "outputs": [
    {
     "data": {
      "text/plain": [
       "<matplotlib.colorbar.Colorbar at 0x21c63b69bb0>"
      ]
     },
     "execution_count": 332,
     "metadata": {},
     "output_type": "execute_result"
    },
    {
     "data": {
      "image/png": "[encoded data removed]",
      "text/plain": [
       "<Figure size 432x288 with 2 Axes>"
      ]
     },
     "metadata": {
      "needs_background": "light"
     },
     "output_type": "display_data"
    }
   ],
   "source": [
    "df_corr = df_titanic[[\"Survived\", \"Pclass\", \"Parch\", \"Fare\"]].corr()\n",
    "plt.imshow(pd.DataFrame(df_corr[\"Survived\"]))\n",
    "plt.colorbar()"
   ]
  },
  {
   "cell_type": "markdown",
   "id": "8973f964",
   "metadata": {},
   "source": [
    "## ANSWER 13"
   ]
  },
  {
   "cell_type": "code",
   "execution_count": 274,
   "id": "82c03e5a",
   "metadata": {},
   "outputs": [
    {
     "data": {
      "text/plain": [
       "18"
      ]
     },
     "execution_count": 274,
     "metadata": {},
     "output_type": "execute_result"
    }
   ],
   "source": [
    "name_titles=[]\n",
    "\n",
    "for x in df_titanic[\"Name\"]:\n",
    "    d=x.split()\n",
    "    for y in d:\n",
    "        if y[-1:]==\".\":\n",
    "            name_titles.append(y)\n",
    "\n",
    "                \n",
    "pd.DataFrame(pd.DataFrame(name_titles).value_counts()).size         \n",
    "   \n",
    "\n"
   ]
  },
  {
   "cell_type": "markdown",
   "id": "e184378e",
   "metadata": {},
   "source": [
    "## ANSWER 14"
   ]
  },
  {
   "cell_type": "code",
   "execution_count": 276,
   "id": "8bb1e83b",
   "metadata": {},
   "outputs": [
    {
     "data": {
      "text/html": [
       "<div>\n",
       "<style scoped>\n",
       "    .dataframe tbody tr th:only-of-type {\n",
       "        vertical-align: middle;\n",
       "    }\n",
       "\n",
       "    .dataframe tbody tr th {\n",
       "        vertical-align: top;\n",
       "    }\n",
       "\n",
       "    .dataframe thead th {\n",
       "        text-align: right;\n",
       "    }\n",
       "</style>\n",
       "<table border=\"1\" class=\"dataframe\">\n",
       "  <thead>\n",
       "    <tr style=\"text-align: right;\">\n",
       "      <th></th>\n",
       "      <th>0</th>\n",
       "    </tr>\n",
       "    <tr>\n",
       "      <th>0</th>\n",
       "      <th></th>\n",
       "    </tr>\n",
       "  </thead>\n",
       "  <tbody>\n",
       "    <tr>\n",
       "      <th>Mr.</th>\n",
       "      <td>517</td>\n",
       "    </tr>\n",
       "    <tr>\n",
       "      <th>Miss.</th>\n",
       "      <td>182</td>\n",
       "    </tr>\n",
       "    <tr>\n",
       "      <th>Mrs.</th>\n",
       "      <td>125</td>\n",
       "    </tr>\n",
       "    <tr>\n",
       "      <th>Master.</th>\n",
       "      <td>40</td>\n",
       "    </tr>\n",
       "    <tr>\n",
       "      <th>Dr.</th>\n",
       "      <td>7</td>\n",
       "    </tr>\n",
       "    <tr>\n",
       "      <th>Rev.</th>\n",
       "      <td>6</td>\n",
       "    </tr>\n",
       "    <tr>\n",
       "      <th>Mlle.</th>\n",
       "      <td>2</td>\n",
       "    </tr>\n",
       "    <tr>\n",
       "      <th>Major.</th>\n",
       "      <td>2</td>\n",
       "    </tr>\n",
       "    <tr>\n",
       "      <th>Col.</th>\n",
       "      <td>2</td>\n",
       "    </tr>\n",
       "    <tr>\n",
       "      <th>Ms.</th>\n",
       "      <td>1</td>\n",
       "    </tr>\n",
       "    <tr>\n",
       "      <th>Mme.</th>\n",
       "      <td>1</td>\n",
       "    </tr>\n",
       "    <tr>\n",
       "      <th>Capt.</th>\n",
       "      <td>1</td>\n",
       "    </tr>\n",
       "    <tr>\n",
       "      <th>Lady.</th>\n",
       "      <td>1</td>\n",
       "    </tr>\n",
       "    <tr>\n",
       "      <th>L.</th>\n",
       "      <td>1</td>\n",
       "    </tr>\n",
       "    <tr>\n",
       "      <th>Jonkheer.</th>\n",
       "      <td>1</td>\n",
       "    </tr>\n",
       "    <tr>\n",
       "      <th>Don.</th>\n",
       "      <td>1</td>\n",
       "    </tr>\n",
       "    <tr>\n",
       "      <th>Countess.</th>\n",
       "      <td>1</td>\n",
       "    </tr>\n",
       "    <tr>\n",
       "      <th>Sir.</th>\n",
       "      <td>1</td>\n",
       "    </tr>\n",
       "  </tbody>\n",
       "</table>\n",
       "</div>"
      ],
      "text/plain": [
       "             0\n",
       "0             \n",
       "Mr.        517\n",
       "Miss.      182\n",
       "Mrs.       125\n",
       "Master.     40\n",
       "Dr.          7\n",
       "Rev.         6\n",
       "Mlle.        2\n",
       "Major.       2\n",
       "Col.         2\n",
       "Ms.          1\n",
       "Mme.         1\n",
       "Capt.        1\n",
       "Lady.        1\n",
       "L.           1\n",
       "Jonkheer.    1\n",
       "Don.         1\n",
       "Countess.    1\n",
       "Sir.         1"
      ]
     },
     "execution_count": 276,
     "metadata": {},
     "output_type": "execute_result"
    }
   ],
   "source": [
    "name_titles=[]\n",
    "\n",
    "for x in df_titanic[\"Name\"]:\n",
    "    d=x.split()\n",
    "    for y in d:\n",
    "        if y[-1:]==\".\":\n",
    "            name_titles.append(y)\n",
    "\n",
    "                \n",
    "pd.DataFrame(pd.DataFrame(name_titles).value_counts())"
   ]
  },
  {
   "cell_type": "markdown",
   "id": "23e11505",
   "metadata": {},
   "source": [
    "## ANSWER 15"
   ]
  },
  {
   "cell_type": "code",
   "execution_count": 277,
   "id": "bea5b9fa",
   "metadata": {},
   "outputs": [
    {
     "data": {
      "text/plain": [
       "29.69911764705882"
      ]
     },
     "execution_count": 277,
     "metadata": {},
     "output_type": "execute_result"
    }
   ],
   "source": [
    "toplamyolcu=df_titanic[\"PassengerId\"].count()-df_titanic[\"PassengerId\"].loc[df_titanic[\"Age\"].isna()].count()\n",
    "df_titanic[\"Age\"].sum()/toplamyolcu\n",
    "##ortalama hesaplıyor"
   ]
  },
  {
   "cell_type": "markdown",
   "id": "447ad1f4",
   "metadata": {},
   "source": [
    "## ANSWER 16"
   ]
  },
  {
   "cell_type": "code",
   "execution_count": 304,
   "id": "74f74f85",
   "metadata": {},
   "outputs": [
    {
     "data": {
      "text/plain": [
       "<AxesSubplot:xlabel='Survived', ylabel='Age'>"
      ]
     },
     "execution_count": 304,
     "metadata": {},
     "output_type": "execute_result"
    },
    {
     "data": {
      "image/png": "[encoded data removed]",
      "text/plain": [
       "<Figure size 432x288 with 1 Axes>"
      ]
     },
     "metadata": {
      "needs_background": "light"
     },
     "output_type": "display_data"
    }
   ],
   "source": [
    "## people who is between 20-40 are mostly couldnt survived\n",
    "ax = sns.stripplot(x=\"Survived\", y=\"Age\", data=df_titanic)\n",
    "\n",
    "ax"
   ]
  },
  {
   "cell_type": "markdown",
   "id": "c920e16b",
   "metadata": {},
   "source": [
    "## ANSWER 17"
   ]
  },
  {
   "cell_type": "code",
   "execution_count": 279,
   "id": "7e394718",
   "metadata": {},
   "outputs": [
    {
     "data": {
      "text/plain": [
       "80.0"
      ]
     },
     "execution_count": 279,
     "metadata": {},
     "output_type": "execute_result"
    }
   ],
   "source": [
    "df_titanic[\"Age\"].max()"
   ]
  },
  {
   "cell_type": "markdown",
   "id": "7b26f3cd",
   "metadata": {},
   "source": [
    "## ANSWER 18&19"
   ]
  },
  {
   "cell_type": "code",
   "execution_count": 305,
   "id": "40cf0b1c",
   "metadata": {},
   "outputs": [
    {
     "data": {
      "text/plain": [
       "<AxesSubplot:ylabel='None'>"
      ]
     },
     "execution_count": 305,
     "metadata": {},
     "output_type": "execute_result"
    },
    {
     "data": {
      "image/png": "[encoded data removed]",
      "text/plain": [
       "<Figure size 432x288 with 2 Axes>"
      ]
     },
     "metadata": {},
     "output_type": "display_data"
    }
   ],
   "source": [
    "\n",
    "a=df_titanic[\"Age\"].loc[df_titanic[\"Survived\"]==1].value_counts(normalize=True)\n",
    "plt.subplot(1,2,1)\n",
    "Age_group=[]\n",
    "for x in df_titanic[\"Age\"].loc[df_titanic[\"Survived\"]==1]:\n",
    "    if (19 > x):\n",
    "        Age_group.append(\"Child\")\n",
    "    elif x < 60:\n",
    "        Age_group.append(\"Adult\")\n",
    "    else :\n",
    "        Age_group.append(\"Old\")\n",
    "b=pd.DataFrame(Age_group)\n",
    "\n",
    "b.value_counts(normalize=1).plot.pie()\n",
    "\n",
    "plt.subplot(1,2,2)\n",
    "Age_group=[]\n",
    "for x in df_titanic[\"Age\"].loc[df_titanic[\"Survived\"]==0]:\n",
    "    if (19 > x):\n",
    "        Age_group.append(\"Child\")\n",
    "    elif x < 60:\n",
    "        Age_group.append(\"Adult\")\n",
    "    else :\n",
    "        Age_group.append(\"Old\")\n",
    "b=pd.DataFrame(Age_group)\n",
    "\n",
    "b.value_counts(normalize=1).plot.pie()\n",
    "## more  percentages of children survived than percentages of old people"
   ]
  },
  {
   "cell_type": "markdown",
   "id": "8655e319",
   "metadata": {},
   "source": [
    "## ANSWER 20"
   ]
  },
  {
   "cell_type": "code",
   "execution_count": 281,
   "id": "de4e8d1d",
   "metadata": {},
   "outputs": [
    {
     "name": "stdout",
     "output_type": "stream",
     "text": [
      "8\n"
     ]
    }
   ],
   "source": [
    "print(df_titanic[\"SibSp\"].max())"
   ]
  },
  {
   "cell_type": "markdown",
   "id": "7164a5e1",
   "metadata": {},
   "source": [
    "## ---------------------"
   ]
  }
 ],
 "metadata": {
  "kernelspec": {
   "display_name": "Python 3 (ipykernel)",
   "language": "python",
   "name": "python3"
  },
  "language_info": {
   "codemirror_mode": {
    "name": "ipython",
    "version": 3
   },
   "file_extension": ".py",
   "mimetype": "text/x-python",
   "name": "python",
   "nbconvert_exporter": "python",
   "pygments_lexer": "ipython3",
   "version": "3.10.8"
  }
 },
 "nbformat": 4,
 "nbformat_minor": 5
}
